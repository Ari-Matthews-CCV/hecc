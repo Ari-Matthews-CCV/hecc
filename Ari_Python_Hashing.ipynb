{
  "nbformat": 4,
  "nbformat_minor": 0,
  "metadata": {
    "colab": {
      "provenance": [],
      "include_colab_link": true
    },
    "kernelspec": {
      "name": "python3",
      "display_name": "Python 3"
    },
    "language_info": {
      "name": "python"
    }
  },
  "cells": [
    {
      "cell_type": "markdown",
      "metadata": {
        "id": "view-in-github",
        "colab_type": "text"
      },
      "source": [
        "<a href=\"https://colab.research.google.com/github/Ari-Matthews-CCV/hecc/blob/main/Ari_Python_Hashing.ipynb\" target=\"_parent\"><img src=\"https://colab.research.google.com/assets/colab-badge.svg\" alt=\"Open In Colab\"/></a>"
      ]
    },
    {
      "cell_type": "code",
      "source": [
        "# 1. Python Variables\n",
        "print(\"Ari's Python Variables:\")\n",
        "# Variables are used to store values. In Python, you don't need to explicitly declare the data type of a variable.\n",
        "shuttle = \"Fox\"\n",
        "f = 78\n",
        "print(shuttle)\n",
        "print(f)"
      ],
      "metadata": {
        "colab": {
          "base_uri": "https://localhost:8080/"
        },
        "id": "hMj1yJfVIZ5o",
        "outputId": "cef30abb-5da8-47ac-bfb4-9361dfe7a34d"
      },
      "execution_count": null,
      "outputs": [
        {
          "output_type": "stream",
          "name": "stdout",
          "text": [
            "Ari's Python Variables:\n",
            "Fox\n",
            "78\n"
          ]
        }
      ]
    },
    {
      "cell_type": "code",
      "source": [
        "# 2. Python Data Types\n",
        "print(\"\\nPython Data Types:\")\n",
        "\n",
        "# Python has several built-in data types, including:\n",
        "# - Numbers (int, float, complex)\n",
        "# - Strings\n",
        "# - Lists\n",
        "# - Tuples\n",
        "# - Dictionaries\n",
        "# - Sets\n",
        "# - Booleans\n",
        "\n",
        "# Examples:\n",
        "life = 42\n",
        "seagate = 3.5\n",
        "sinister = 66 + 6j\n",
        "Face = \"Withdrawn\"\n",
        "Quest = False\n",
        "\n",
        "print(life, type(life))\n",
        "print(seagate, type(seagate))\n",
        "print(sinister, type(sinister))\n",
        "print(Face, type(Face))\n",
        "print(Quest, type(Quest))"
      ],
      "metadata": {
        "colab": {
          "base_uri": "https://localhost:8080/"
        },
        "id": "s_ZEKvwOHXyu",
        "outputId": "bceb2c63-d66f-490d-9f05-325ccec78693"
      },
      "execution_count": null,
      "outputs": [
        {
          "output_type": "stream",
          "name": "stdout",
          "text": [
            "\n",
            "Python Data Types:\n",
            "42 <class 'int'>\n",
            "3.5 <class 'float'>\n",
            "(66+6j) <class 'complex'>\n",
            "Withdrawn <class 'str'>\n",
            "False <class 'bool'>\n"
          ]
        }
      ]
    },
    {
      "cell_type": "code",
      "source": [
        "# 3. Python Operators\n",
        "print(\"\\nPython Operators:\")\n",
        "\n",
        "# Python supports various operators, such as arithmetic, assignment, comparison, logical, and more.\n",
        "x = 67\n",
        "y = 8\n",
        "\n",
        "# Arithmetic operators\n",
        "print(\"67 + 8 =\", x + y)\n",
        "print(\"67 - 8 =\", x - y)\n",
        "print(\"67 * 8 =\", x * y)\n",
        "print(\"67 / 8 =\", x / y)\n",
        "\n",
        "# Comparison operators\n",
        "print(\"67 > 8 =\", x > y)\n",
        "print(\"67 < 8 =\", x < y)\n",
        "print(\"67 == 8 =\", x == y)"
      ],
      "metadata": {
        "colab": {
          "base_uri": "https://localhost:8080/"
        },
        "id": "bBbqWbk0I7ax",
        "outputId": "ae21200a-58f9-47c3-b1a0-27b6f7073adf"
      },
      "execution_count": null,
      "outputs": [
        {
          "output_type": "stream",
          "name": "stdout",
          "text": [
            "\n",
            "Python Operators:\n",
            "67 + 8 = 75\n",
            "67 - 8 = 59\n",
            "67 * 8 = 536\n",
            "67 / 8 = 8.375\n",
            "67 > 8 = True\n",
            "67 < 8 = False\n",
            "67 == 8 = False\n"
          ]
        }
      ]
    },
    {
      "cell_type": "code",
      "source": [
        "# 4. Python Conditionals\n",
        "print(\"\\nOfficeCheck:\")\n",
        "\n",
        "# Conditionals allow you to control the flow of your program based on certain conditions.\n",
        "legal_age = 81\n",
        "\n",
        "print(\"Your age is \", legal_age, \"Years old\")\n",
        "\n",
        "if legal_age < 18:\n",
        "    print(\"You are unable to vote.\")\n",
        "elif legal_age >= 18 and legal_age < 35:\n",
        "    print(\"You are unable to run for presidential office.\")\n",
        "elif legal_age >= 35 and legal_age < 80:\n",
        "    print(\"You are able to run for president.\")\n",
        "elif legal_age >= 80:\n",
        "  print(\"You are able to run for president, but you probably really, really shouldn't.\")\n"
      ],
      "metadata": {
        "colab": {
          "base_uri": "https://localhost:8080/"
        },
        "id": "5g1tAlp9JBKB",
        "outputId": "ca84f8d3-c039-4861-b286-25a3d847a291"
      },
      "execution_count": null,
      "outputs": [
        {
          "output_type": "stream",
          "name": "stdout",
          "text": [
            "\n",
            "OfficeCheck:\n",
            "Your age is  81 Years old\n",
            "You are able to run for president, but you probably really, really shouldn't.\n"
          ]
        }
      ]
    },
    {
      "cell_type": "code",
      "source": [
        "# 5. Python Loops\n",
        "print(\"\\nSith Loops:\")\n",
        "\n",
        "# Loops allow you to execute a block of code repeatedly.\n",
        "\n",
        "# For loop\n",
        "sith = [\"Vader\", \"Bane\", \"Tyranus\"]\n",
        "for sith in sith:\n",
        "    print(sith)\n",
        "\n",
        "# While loop\n",
        "unholy = 0\n",
        "while unholy < 7:\n",
        "    print(unholy)\n",
        "    unholy += 1\n",
        "\n"
      ],
      "metadata": {
        "colab": {
          "base_uri": "https://localhost:8080/"
        },
        "id": "QcMk_LOaJB-j",
        "outputId": "b1c6bfed-2412-402c-99a2-cb48001c4ed0"
      },
      "execution_count": null,
      "outputs": [
        {
          "output_type": "stream",
          "name": "stdout",
          "text": [
            "\n",
            "Sith Loops:\n",
            "Vader\n",
            "Bane\n",
            "Tyranus\n",
            "0\n",
            "1\n",
            "2\n",
            "3\n",
            "4\n",
            "5\n",
            "6\n"
          ]
        }
      ]
    },
    {
      "cell_type": "code",
      "source": [
        "# 6. Python Functions\n",
        "print(\"\\nTired Functions:\")\n",
        "\n",
        "# Functions are reusable blocks of code that perform a specific task.\n",
        "def Curse(god):\n",
        "    print(f\"Why did you create this horrible world, {god}?\")\n",
        "\n",
        "Curse(\"Zeus\")\n"
      ],
      "metadata": {
        "colab": {
          "base_uri": "https://localhost:8080/"
        },
        "id": "PFZKp1qnJII-",
        "outputId": "2bfc32ff-bf60-4b50-bcc4-0446479a29e7"
      },
      "execution_count": null,
      "outputs": [
        {
          "output_type": "stream",
          "name": "stdout",
          "text": [
            "\n",
            "Tired Functions:\n",
            "Why did you create this horrible world, Zeus?\n"
          ]
        }
      ]
    },
    {
      "cell_type": "code",
      "source": [
        "# 7. Functions & the Math Package\n",
        "print(\"Print the value of Euler's Number\")\n",
        "\n",
        "import math\n",
        "\n",
        "print(f\"Euler's Number: {math.e}\")\n",
        "\n",
        "#https://realpython.com/python-math-module/"
      ],
      "metadata": {
        "colab": {
          "base_uri": "https://localhost:8080/"
        },
        "id": "DTbpXtRuKwB4",
        "outputId": "e595fb75-6c3a-4c3b-8567-c3811d0569d1"
      },
      "execution_count": null,
      "outputs": [
        {
          "output_type": "stream",
          "name": "stdout",
          "text": [
            "Print the value of Euler's Number\n",
            "Euler's Number: 2.718281828459045\n"
          ]
        }
      ]
    },
    {
      "cell_type": "code",
      "source": [
        "# 8. Define a function to find the length of a triangle's hypotenuse\n",
        "adjacent_length = 5\n",
        "opposite_length = 66\n",
        "\n",
        "import math\n",
        "\n",
        "print(\"The length of a triangle's third side, with sides measuring\", adjacent_length, \"and\", opposite_length, \"is\", math.hypot(adjacent_length, opposite_length))\n"
      ],
      "metadata": {
        "colab": {
          "base_uri": "https://localhost:8080/"
        },
        "id": "ABO7YY0tL4P_",
        "outputId": "9580bfad-3a1d-425a-fba6-47870778d37d"
      },
      "execution_count": null,
      "outputs": [
        {
          "output_type": "stream",
          "name": "stdout",
          "text": [
            "The length of a triangle's third side, with sides measuring 5 and 66 is 66.18912297349165\n"
          ]
        }
      ]
    },
    {
      "cell_type": "code",
      "source": [
        "# 9. Define a function to reverse a string\n",
        "print(\"\\nExample 2: Reverse a String\")\n",
        "\n",
        "def reverse_string(input_string):\n",
        "\n",
        "    invertplea = input_string[::-1]\n",
        "    return invertplea\n",
        "\n",
        "plea = \"emit eht lla derit ylemertxe m'I pleH\"\n",
        "invertplea = reverse_string(plea)\n",
        "print(f\"Original string: {plea}\")\n",
        "print(f\"Reversed string: {invertplea}\")\n",
        "\n",
        "\n"
      ],
      "metadata": {
        "colab": {
          "base_uri": "https://localhost:8080/"
        },
        "id": "EPHYeq_rMR9S",
        "outputId": "063d42ce-ee99-400a-9798-8abf52854725"
      },
      "execution_count": null,
      "outputs": [
        {
          "output_type": "stream",
          "name": "stdout",
          "text": [
            "\n",
            "Example 2: Reverse a String\n",
            "Original string: emit eht lla derit ylemertxe m'I pleH\n",
            "Reversed string: Help I'm extremely tired all the time\n"
          ]
        }
      ]
    },
    {
      "cell_type": "code",
      "source": [
        "# 10. Define a function with Default Parameters\n",
        "print(\"\\nExample 3: Function with Default Parameters\")\n",
        "\n",
        "def greet(name, greeting=\"Earthshaker\"):\n",
        "    \"\"\"\n",
        "    Greet a person with a custom greeting.\n",
        "\n",
        "    Args:\n",
        "        name (str): The name of the person to greet.\n",
        "        greeting (str, optional): The greeting to use. Default is \"Hello\".\n",
        "\n",
        "    Returns:\n",
        "        str: The greeting message.\n",
        "    \"\"\"\n",
        "    message = f\"{greeting}, {name}!\"\n",
        "    return message\n",
        "\n",
        "print(greet(\"Poseidon\"))\n"
      ],
      "metadata": {
        "colab": {
          "base_uri": "https://localhost:8080/"
        },
        "id": "8VtAa2NXMxwN",
        "outputId": "5fb92405-527d-49f5-bbaa-4ee351d0f756"
      },
      "execution_count": null,
      "outputs": [
        {
          "output_type": "stream",
          "name": "stdout",
          "text": [
            "\n",
            "Example 3: Function with Default Parameters\n",
            "Earthshaker, Poseidon!\n"
          ]
        }
      ]
    },
    {
      "cell_type": "markdown",
      "source": [
        "#Authenatication\n",
        "\n",
        "In this example we will look at HTTP Basic Authentication which is built on the HTTP Protocol. Login crednetials are sent as a header request as an encoded string. Before you jump into the code blocks below we have two readings to review.\n",
        "\n",
        "Reading 1: [Web Authentication Methods Compared](https://testdriven.io/blog/web-authentication-methods/) by Amal Shaji on testdriven.io is an excellent overview. You can pull his code bits into your own Colab notebook to test them out.\n",
        "\n",
        "\n",
        "Base64 encoding is a text encoding string that represents binary data into an ASCII string, allowing it to carry data stored in a binary format across channels.\n",
        "\n",
        "[Before going further, jump into this reading on Base 64 Encoding: What is it? How Does It Work?](https://builtin.com/software-engineering-perspectives/base64-encoding)\n"
      ],
      "metadata": {
        "id": "tnWb2d16DUyr"
      }
    },
    {
      "cell_type": "code",
      "source": [
        "#Define a function to encode a string using Base64\n",
        "import base64\n",
        "\n",
        "def base64_encode(input_string):\n",
        "    encoded_bytes = base64.b64encode(input_string.encode(\"utf-8\"))\n",
        "    return encoded_bytes.decode(\"utf-8\")"
      ],
      "metadata": {
        "id": "WvLaPfnZHCmB"
      },
      "execution_count": null,
      "outputs": []
    },
    {
      "cell_type": "code",
      "source": [
        "#Define a function to decode a Base64-encoded string\n",
        "def base64_decode(encoded_string):\n",
        "    decoded_bytes = base64.b64decode(encoded_string.encode(\"utf-8\"))\n",
        "    return decoded_bytes.decode(\"utf-8\")"
      ],
      "metadata": {
        "id": "EbqMdx7KHC0C"
      },
      "execution_count": null,
      "outputs": []
    },
    {
      "cell_type": "markdown",
      "source": [
        "## Demonstrate Base64 encoding and decoding\n",
        "\n",
        "* Take user input (a string)\n",
        "* Encode the input string using Base64\n",
        "* Decode the Base64-encoded string\n",
        "* Print the original and decoded strings to verify the process"
      ],
      "metadata": {
        "id": "JxfDx-LG2gkD"
      }
    },
    {
      "cell_type": "code",
      "source": [
        "#Now we are going to write a function to demonstrate how to encode and decode using Base 64\n",
        "\n",
        "input_string = input(\"Enter a string: \")\n",
        "encoded_string = base64_encode(input_string)\n",
        "decoded_string = base64_decode(encoded_string)\n",
        "\n",
        "print(f\"Original string: {input_string}\")\n",
        "print(f\"Base64 encoded: {encoded_string}\")\n",
        "print(f\"Decoded string: {decoded_string}\")"
      ],
      "metadata": {
        "colab": {
          "base_uri": "https://localhost:8080/"
        },
        "id": "kCTIwCqKHDAi",
        "outputId": "1ba17b4f-497a-4bb6-d84c-baf9384e00d9"
      },
      "execution_count": null,
      "outputs": [
        {
          "output_type": "stream",
          "name": "stdout",
          "text": [
            "Enter a string: help i'm a tired creature\n",
            "Original string: help i'm a tired creature\n",
            "Base64 encoded: aGVscCBpJ20gYSB0aXJlZCBjcmVhdHVyZQ==\n",
            "Decoded string: help i'm a tired creature\n"
          ]
        }
      ]
    },
    {
      "cell_type": "code",
      "source": [
        "def base64_auth(username, password):\n",
        "    auth_string = f\"{username}:{password}\"\n",
        "    encoded_auth = base64_encode(auth_string)\n",
        "    return encoded_auth"
      ],
      "metadata": {
        "id": "_ykAoX3m5f82"
      },
      "execution_count": null,
      "outputs": []
    },
    {
      "cell_type": "code",
      "source": [
        "username = input(\"Username: \")\n",
        "password = input(\"Password: \")\n",
        "auth_header = base64_auth(username, password)\n",
        "print(f\"Authorization header: Basic {auth_header}\")"
      ],
      "metadata": {
        "colab": {
          "base_uri": "https://localhost:8080/"
        },
        "id": "MUctltbv5hS3",
        "outputId": "31fd8941-6553-458d-8efc-cfc39f794a73"
      },
      "execution_count": null,
      "outputs": [
        {
          "output_type": "stream",
          "name": "stdout",
          "text": [
            "Username: Admin\n",
            "Password: nutword\n",
            "Authorization header: Basic QWRtaW46bnV0d29yZA==\n"
          ]
        }
      ]
    },
    {
      "cell_type": "markdown",
      "source": [
        "There are some tools out there to encode data for you available on the web that will to play around with encoding different types of media objects you can spend some time playing around with.\n",
        "\n",
        "https://www.base64encode.org/\n",
        "\n",
        "Remember Base64 is an encoding, not encryption (encoded data can be easily decoded)\n",
        "I can not overstate enough the importance of using HTTPS for secure communication\n"
      ],
      "metadata": {
        "id": "3P-5A38DPJ3X"
      }
    },
    {
      "cell_type": "markdown",
      "source": [
        "#What is Hashing?\n",
        "\n",
        "In theory reconstructing an MD5 hash from its output value is computationally infeasible due to the one-way nature of the MD5 hashing algorithm.\n",
        "\n",
        "Before moving further with the code blocks take a minut to review the following readings on hashing.\n",
        "\n",
        "The process of converting data -\n",
        "\n",
        "Hashing: A Fundamental Technique in Data Structures https://medium.com/@beyond_verse/hashing-a-fundamental-technique-in-data-structures-bab11d6f85fc\n",
        "\n",
        "What is Hashing, and How Does It Work? https://www.codecademy.com/resources/blog/what-is-hashing/\n",
        "\n",
        "Introduction to Hashing - Data Structure and Algoithm Tutorials: https://www.geeksforgeeks.org/introduction-to-hashing-data-structure-and-algorithm-tutorials/\n"
      ],
      "metadata": {
        "id": "uLYJQkTcOGUP"
      }
    },
    {
      "cell_type": "code",
      "execution_count": null,
      "metadata": {
        "id": "nKZb5dkJMbp0"
      },
      "outputs": [],
      "source": [
        "import hashlib"
      ]
    },
    {
      "cell_type": "code",
      "source": [
        "def hash_md5(input_string):\n",
        "    md5 = hashlib.md5()\n",
        "    md5.update(input_string.encode())\n",
        "    return md5.hexdigest()\n",
        "\n",
        "def hash_sha1(input_string):\n",
        "    sha1 = hashlib.sha1()\n",
        "    sha1.update(input_string.encode())\n",
        "    return sha1.hexdigest()\n",
        "\n",
        "def hash_sha256(input_string):\n",
        "    sha256 = hashlib.sha256()\n",
        "    sha256.update(input_string.encode())\n",
        "    return sha256.hexdigest()"
      ],
      "metadata": {
        "id": "fRxdSgzhMe9n"
      },
      "execution_count": null,
      "outputs": []
    },
    {
      "cell_type": "code",
      "source": [
        "input_string = input(\"Enter a string: \")\n",
        "\n",
        "print(f\"MD5 hash: {hash_md5(input_string)}\")\n",
        "print(f\"SHA-1 hash: {hash_sha1(input_string)}\")\n",
        "print(f\"SHA-256 hash: {hash_sha256(input_string)}\")"
      ],
      "metadata": {
        "colab": {
          "base_uri": "https://localhost:8080/"
        },
        "id": "LjOy942OMh4N",
        "outputId": "b1a68ec0-2a24-4760-aa3b-f7171fd93978"
      },
      "execution_count": null,
      "outputs": [
        {
          "output_type": "stream",
          "name": "stdout",
          "text": [
            "Enter a string: Apparently you can install Mac OS 9 on the Nintendo Wii. Wild stuff. \n",
            "MD5 hash: 797684347aa4554a59ac5b57bbbfbdce\n",
            "SHA-1 hash: aae90346d096d5ef01ed15d27a5320bf4ae6ed36\n",
            "SHA-256 hash: 2dd1ffbc560bde0e80b460910ccb0517f4468e8c5e58580619d2123576eea3cd\n"
          ]
        }
      ]
    },
    {
      "cell_type": "code",
      "source": [
        "input_string2 = input(\"Enter a string: \")\n",
        "\n",
        "print(f\"MD5 hash: {hash_md5(input_string2)}\")\n",
        "print(f\"SHA-1 hash: {hash_sha1(input_string2)}\")\n",
        "print(f\"SHA-256 hash: {hash_sha256(input_string2)}\")"
      ],
      "metadata": {
        "colab": {
          "base_uri": "https://localhost:8080/"
        },
        "id": "wiS0qQDpMqsF",
        "outputId": "ddc3e3c5-868a-4be1-eeae-1fd4434f0ea9"
      },
      "execution_count": null,
      "outputs": [
        {
          "output_type": "stream",
          "name": "stdout",
          "text": [
            "Enter a string: I should've known that Linux is installable on a Playstation 2\n",
            "MD5 hash: 39b3806447968a2b767def63af204598\n",
            "SHA-1 hash: bfe7ce86b2d1efbc0bdefe0976be8d1344d30ff4\n",
            "SHA-256 hash: 23d14a27d317cd8a8f3b50fd17254f081e69e680c80ac2b05bc1c5223d27e330\n"
          ]
        }
      ]
    },
    {
      "cell_type": "markdown",
      "source": [
        "In this example, we defined a function md5_hash that takes an input string, encodes it using UTF-8, and then calculates its MD5 hash using the hashlib module in Python. The function returns the hexadecimal representation of the hash value.\n",
        "\n",
        "We then provide an input string \"Information is Beautiful\", call the md5_hash function with this input, and print both the input string and the resulting MD5 hash value.\n",
        "\n",
        "It's important to note that the MD5 hashing algorithm is now considered insecure for certain applications due to its susceptibility to collisions and other attacks. For secure hashing, it is recommended to use stronger algorithms like SHA-256 or SHA-3."
      ],
      "metadata": {
        "id": "KB7X31Go3r1j"
      }
    }
  ]
}